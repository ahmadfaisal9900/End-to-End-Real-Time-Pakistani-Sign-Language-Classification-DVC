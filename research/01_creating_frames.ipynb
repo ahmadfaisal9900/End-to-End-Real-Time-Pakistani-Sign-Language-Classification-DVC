{
 "cells": [
  {
   "cell_type": "code",
   "execution_count": 1,
   "metadata": {},
   "outputs": [],
   "source": [
    "import os\n",
    "os.chdir(\"../\")"
   ]
  },
  {
   "cell_type": "code",
   "execution_count": 2,
   "metadata": {},
   "outputs": [],
   "source": [
    "import cv2\n",
    "import random"
   ]
  },
  {
   "cell_type": "code",
   "execution_count": 3,
   "metadata": {},
   "outputs": [],
   "source": [
    "from dataclasses import dataclass\n",
    "from pathlib import Path\n",
    "\n",
    "@dataclass(frozen=True)\n",
    "class CreatingFramesConfig:\n",
    "    video_path: Path\n",
    "    output_dir: Path\n",
    "    frame_rate: int"
   ]
  },
  {
   "cell_type": "code",
   "execution_count": 4,
   "metadata": {},
   "outputs": [
    {
     "ename": "ModuleNotFoundError",
     "evalue": "No module named 'SignLanguageClassification'",
     "output_type": "error",
     "traceback": [
      "\u001b[31m---------------------------------------------------------------------------\u001b[39m",
      "\u001b[31mModuleNotFoundError\u001b[39m                       Traceback (most recent call last)",
      "\u001b[36mCell\u001b[39m\u001b[36m \u001b[39m\u001b[32mIn[4]\u001b[39m\u001b[32m, line 1\u001b[39m\n\u001b[32m----> \u001b[39m\u001b[32m1\u001b[39m \u001b[38;5;28;01mfrom\u001b[39;00m\u001b[38;5;250m \u001b[39m\u001b[34;01mSignLanguageClassification\u001b[39;00m\u001b[34;01m.\u001b[39;00m\u001b[34;01mconfiguration\u001b[39;00m\u001b[38;5;250m \u001b[39m\u001b[38;5;28;01mimport\u001b[39;00m *\n",
      "\u001b[31mModuleNotFoundError\u001b[39m: No module named 'SignLanguageClassification'"
     ]
    }
   ],
   "source": [
    "from SignLanguageClassification.configuration import *"
   ]
  },
  {
   "cell_type": "code",
   "execution_count": 3,
   "metadata": {},
   "outputs": [],
   "source": [
    "def save_frames(frames, labels, output_dir, video_number):\n",
    "    \"\"\"\n",
    "    Save frames as individual image files with corresponding labels.\n",
    "\n",
    "    Args:\n",
    "      frames: List of frames to be saved.\n",
    "      labels: List of labels corresponding to the frames.\n",
    "      output_dir: Directory where frames will be saved.\n",
    "    \"\"\"\n",
    "    if not os.path.exists(output_dir):\n",
    "        os.makedirs(output_dir)\n",
    "\n",
    "    \n",
    "    for i, (frame, label) in enumerate(zip(frames, labels)):\n",
    "        label_dir = os.path.join(output_dir, label)\n",
    "        if not os.path.exists(label_dir):\n",
    "            os.makedirs(label_dir)\n",
    "        cv2.imwrite(os.path.join(label_dir, f\"video_{video_number}_frame_{i}.jpg\"), cv2.cvtColor(frame, cv2.COLOR_RGB2BGR))\n",
    "    \n",
    "\n",
    "def frames_from_video_file(video_path, n_frames, label, output_size=(1920, 1080), frame_step=15):\n",
    "    \"\"\"\n",
    "    Creates frames from a video file and assigns a label to each frame.\n",
    "\n",
    "    Args:\n",
    "      video_path: File path to the video.\n",
    "      n_frames: Number of frames to be created per video file.\n",
    "      label: Label for the video file.\n",
    "      output_size: Pixel size of the output frame image.\n",
    "      frame_step: Step between consecutive frames.\n",
    "\n",
    "    Return:\n",
    "      A list of frames extracted from the video.\n",
    "    \"\"\"\n",
    "    # Read each video frame by frame\n",
    "    result = []\n",
    "    src = cv2.VideoCapture(str(video_path))\n",
    "\n",
    "    video_length = src.get(cv2.CAP_PROP_FRAME_COUNT)\n",
    "    need_length = min(1 + (n_frames - 1) * frame_step, video_length)\n",
    "\n",
    "    start = 0\n",
    "    if need_length < video_length:\n",
    "        max_start = video_length - need_length\n",
    "        start = random.randint(0, max_start + 1)\n",
    "\n",
    "    src.set(cv2.CAP_PROP_POS_FRAMES, start)\n",
    "    for _ in range(n_frames):\n",
    "        ret, frame = src.read()\n",
    "        if ret:\n",
    "            frame = format_frames(frame, output_size)\n",
    "            result.append(frame)\n",
    "        else:\n",
    "            result.append(np.zeros((output_size[1], output_size[0], 3), dtype=np.uint8))\n",
    "    src.release()\n",
    "\n",
    "    return result\n",
    "\n",
    "def format_frames(frame, output_size):\n",
    "    \"\"\"\n",
    "    Resize an image from a video to the specified output size.\n",
    "\n",
    "    Args:\n",
    "      frame: Image to be resized.\n",
    "      output_size: Pixel size of the output frame image.\n",
    "\n",
    "    Return:\n",
    "      Resized frame.\n",
    "    \"\"\"\n",
    "    frame_rgb = cv2.cvtColor(frame, cv2.COLOR_BGR2RGB)  # Convert frame to RGB color space\n",
    "    frame_resized = cv2.resize(frame_rgb, output_size, interpolation=cv2.INTER_LINEAR)  # Resize frame\n",
    "    return frame_resized\n"
   ]
  },
  {
   "cell_type": "code",
   "execution_count": null,
   "metadata": {},
   "outputs": [],
   "source": []
  },
  {
   "cell_type": "code",
   "execution_count": null,
   "metadata": {},
   "outputs": [],
   "source": []
  }
 ],
 "metadata": {
  "kernelspec": {
   "display_name": ".env",
   "language": "python",
   "name": ".env"
  },
  "language_info": {
   "codemirror_mode": {
    "name": "ipython",
    "version": 3
   },
   "file_extension": ".py",
   "mimetype": "text/x-python",
   "name": "python",
   "nbconvert_exporter": "python",
   "pygments_lexer": "ipython3",
   "version": "3.12.4"
  }
 },
 "nbformat": 4,
 "nbformat_minor": 2
}
